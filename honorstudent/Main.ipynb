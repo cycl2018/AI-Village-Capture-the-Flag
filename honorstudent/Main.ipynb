{
 "cells": [
  {
   "cell_type": "code",
   "execution_count": 1,
   "metadata": {},
   "outputs": [],
   "source": [
    "import requests\n",
    "from IPython.display import Image as Ima\n",
    "from IPython.display import clear_output, display\n",
    "from PIL import Image as Im"
   ]
  },
  {
   "cell_type": "code",
   "execution_count": 2,
   "metadata": {},
   "outputs": [
    {
     "data": {
      "image/png": "[encoded data removed]",
      "text/plain": [
       "<IPython.core.display.Image object>"
      ]
     },
     "execution_count": 2,
     "metadata": {},
     "output_type": "execute_result"
    }
   ],
   "source": [
    "Ima(filename=f'f.png')"
   ]
  },
  {
   "cell_type": "code",
   "execution_count": 3,
   "metadata": {},
   "outputs": [
    {
     "data": {
      "image/png": "[encoded data removed]",
      "text/plain": [
       "<PIL.Image.Image image mode=L size=28x28>"
      ]
     },
     "execution_count": 3,
     "metadata": {},
     "output_type": "execute_result"
    }
   ],
   "source": [
    "IMAGE_DIMS = (28, 28)\n",
    "\n",
    "img = Im.open(f\"A.png\")\n",
    "img = img.resize(IMAGE_DIMS)\n",
    "img = img.convert(\"L\")\n",
    "img"
   ]
  },
  {
   "cell_type": "code",
   "execution_count": 4,
   "metadata": {},
   "outputs": [
    {
     "name": "stdout",
     "output_type": "stream",
     "text": [
      "Way to apply yourself! TESQ1LOYV6R6DZRP7R8SQMEOOYMAKGYZIQP5HVDM401B}5VHF62OXUQDALOPT5ATT2OLM41BITMECXSFYM3GH0V7VA{8J72QHLSHCLU9FD4PTAPT1I81ZZ3JVEGXBYLC\n"
     ]
    }
   ],
   "source": [
    "# Submission Helper\n",
    "\n",
    "with open(\"output.png\", \"rb\") as f:\n",
    "    try:\n",
    "        r = requests.post(\"https://honorstudent.fly.dev/score\", files={\"data_file\": f})\n",
    "        print(r.text)\n",
    "    except requests.exceptions.ConnectionError:\n",
    "        print(\"Connection problems. Contact the CTF organizers.\")"
   ]
  }
 ],
 "metadata": {
  "kernelspec": {
   "display_name": "Python 3.8.13 ('py3.8')",
   "language": "python",
   "name": "python3"
  },
  "language_info": {
   "codemirror_mode": {
    "name": "ipython",
    "version": 3
   },
   "file_extension": ".py",
   "mimetype": "text/x-python",
   "name": "python",
   "nbconvert_exporter": "python",
   "pygments_lexer": "ipython3",
   "version": "3.8.13"
  },
  "orig_nbformat": 4,
  "vscode": {
   "interpreter": {
    "hash": "63849c8902e28e4f1d66cc46971007a641fe93368c9c1203090aae86a2c1244d"
   }
  }
 },
 "nbformat": 4,
 "nbformat_minor": 2
}
