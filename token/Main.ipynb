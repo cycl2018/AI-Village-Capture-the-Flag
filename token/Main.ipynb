{
 "cells": [
  {
   "cell_type": "code",
   "execution_count": 2,
   "metadata": {},
   "outputs": [],
   "source": [
    "import requests\n",
    "import json"
   ]
  },
  {
   "cell_type": "code",
   "execution_count": 4,
   "metadata": {},
   "outputs": [
    {
     "name": "stdout",
     "output_type": "stream",
     "text": [
      "{\"message\": \"30DYC3J1NCNF1{AR1DTK0S6CCLGPT7VBJPT4FGXKSN2ARU6M1KF33SY}XUI0FPBNHVZRP52ZN218NN87AFY8GP0M30IWVP8D01LLM17ZZ6XJULYUL78HH27FPB3MMMS8\"}\n"
     ]
    }
   ],
   "source": [
    "# Submission Helper\n",
    "\n",
    "data = json.dumps(\n",
    "    {\n",
    "        \"line1\": 336,\n",
    "        \"line2\": 492\n",
    "    }\n",
    ")\n",
    "try:\n",
    "    r = requests.post(\"https://token.fly.dev/score\", data=data)\n",
    "    print(r.text)\n",
    "except requests.exceptions.ConnectionError:\n",
    "    print(\"Connection problems. Contact the CTF organizers.\")"
   ]
  }
 ],
 "metadata": {
  "kernelspec": {
   "display_name": "Python 3.8.13 ('py3.8')",
   "language": "python",
   "name": "python3"
  },
  "language_info": {
   "codemirror_mode": {
    "name": "ipython",
    "version": 3
   },
   "file_extension": ".py",
   "mimetype": "text/x-python",
   "name": "python",
   "nbconvert_exporter": "python",
   "pygments_lexer": "ipython3",
   "version": "3.8.13"
  },
  "orig_nbformat": 4,
  "vscode": {
   "interpreter": {
    "hash": "63849c8902e28e4f1d66cc46971007a641fe93368c9c1203090aae86a2c1244d"
   }
  }
 },
 "nbformat": 4,
 "nbformat_minor": 2
}
