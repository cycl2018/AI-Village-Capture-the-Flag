{
 "cells": [
  {
   "cell_type": "code",
   "execution_count": 7,
   "id": "8ec4c069",
   "metadata": {},
   "outputs": [],
   "source": [
    "import numpy as np\n",
    "import random\n",
    "from sklearn.neighbors import KNeighborsRegressor\n",
    "import gc\n",
    "import datetime\n",
    "from sklearn.manifold import TSNE\n",
    "import requests\n",
    "import matplotlib.pyplot as plt \n",
    "import seaborn as sns \n",
    "import matplotlib as mpl\n",
    "import matplotlib.pyplot as plt\n",
    "from mpl_toolkits.mplot3d import Axes3D\n",
    "import numpy as np\n",
    "import json"
   ]
  },
  {
   "cell_type": "code",
   "execution_count": 8,
   "id": "2eafd531",
   "metadata": {},
   "outputs": [],
   "source": [
    "data = np.load('Embedded_characters.npz')"
   ]
  },
  {
   "cell_type": "code",
   "execution_count": 9,
   "id": "76893acd",
   "metadata": {},
   "outputs": [],
   "source": [
    "tokens = data['tokens']\n",
    "embedding = data['embeddings']"
   ]
  },
  {
   "cell_type": "code",
   "execution_count": 10,
   "id": "a3b2ec9d",
   "metadata": {},
   "outputs": [
    {
     "data": {
      "text/plain": [
       "['embeddings', 'tokens']"
      ]
     },
     "execution_count": 10,
     "metadata": {},
     "output_type": "execute_result"
    }
   ],
   "source": [
    "data.files"
   ]
  },
  {
   "cell_type": "code",
   "execution_count": 24,
   "id": "7d4a6d1e",
   "metadata": {},
   "outputs": [
    {
     "name": "stdout",
     "output_type": "stream",
     "text": [
      "FLAG{TURNED}0123456789abcdefghijklmnopqrstuvwxyzBCHIJKMOPQSVWXYZ!\"#$%&'()*+,-./:;<=>?@[\\]^_`|~0123456789abcdefghijklmnopqrstuvwxyzABCDEFGHIJKLMNOPQRSTUVWXYZ!\"#$%&'()*+,-./:;<=>?@[\\]^_`{|}~\n"
     ]
    }
   ],
   "source": [
    "li = []\n",
    "for i in range(188):\n",
    "    li.append((np.std(embedding[i, :]), str(tokens)[i]))\n",
    "li.sort(key = lambda x:x[0])\n",
    "ans = ''\n",
    "for i in li:\n",
    "    ans += i[1]\n",
    "print(ans)"
   ]
  },
  {
   "cell_type": "code",
   "execution_count": null,
   "id": "dd74b658",
   "metadata": {},
   "outputs": [],
   "source": []
  }
 ],
 "metadata": {
  "kernelspec": {
   "display_name": "vqa_prompt",
   "language": "python",
   "name": "vqa_prompt"
  },
  "language_info": {
   "codemirror_mode": {
    "name": "ipython",
    "version": 3
   },
   "file_extension": ".py",
   "mimetype": "text/x-python",
   "name": "python",
   "nbconvert_exporter": "python",
   "pygments_lexer": "ipython3",
   "version": "3.7.11"
  }
 },
 "nbformat": 4,
 "nbformat_minor": 5
}
