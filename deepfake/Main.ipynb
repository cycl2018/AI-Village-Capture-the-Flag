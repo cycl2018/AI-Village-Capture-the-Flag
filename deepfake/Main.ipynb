{
 "cells": [
  {
   "cell_type": "code",
   "execution_count": 3,
   "metadata": {},
   "outputs": [],
   "source": [
    "import requests \n",
    "import base64 \n",
    "import json"
   ]
  },
  {
   "cell_type": "code",
   "execution_count": 4,
   "metadata": {},
   "outputs": [
    {
     "name": "stdout",
     "output_type": "stream",
     "text": [
      "{\"message\": \"U6G6AWZG5PL86O0KGCLFMEO61MJENMOPOALUZYRA9LDC8N5FHRBQCAG6ZHATP38HWWCIT0OXDFN39}EO64LOJALBLWR7SCK6TM5YUMEDIQ1TC9DR8J{05JP90UYHLOMK\"}\n"
     ]
    }
   ],
   "source": [
    "with open(\"sample.mp4\", \"rb\") as f:\n",
    "    data = f.read()\n",
    "b64_data = base64.urlsafe_b64encode(data).decode()\n",
    "in_data = json.dumps({\"input\": b64_data})\n",
    "r = requests.post(\"https://deepfake.fly.dev/score\", data=in_data)\n",
    "print(r.text)"
   ]
  }
 ],
 "metadata": {
  "kernelspec": {
   "display_name": "Python 3.8.13 ('py3.8')",
   "language": "python",
   "name": "python3"
  },
  "language_info": {
   "codemirror_mode": {
    "name": "ipython",
    "version": 3
   },
   "file_extension": ".py",
   "mimetype": "text/x-python",
   "name": "python",
   "nbconvert_exporter": "python",
   "pygments_lexer": "ipython3",
   "version": "3.8.13"
  },
  "orig_nbformat": 4,
  "vscode": {
   "interpreter": {
    "hash": "63849c8902e28e4f1d66cc46971007a641fe93368c9c1203090aae86a2c1244d"
   }
  }
 },
 "nbformat": 4,
 "nbformat_minor": 2
}
