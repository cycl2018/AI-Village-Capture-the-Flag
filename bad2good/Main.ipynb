{
 "cells": [
  {
   "cell_type": "code",
   "execution_count": null,
   "metadata": {},
   "outputs": [],
   "source": [
    "import pandas as pd\n",
    "import requests\n",
    "import json"
   ]
  },
  {
   "cell_type": "code",
   "execution_count": null,
   "metadata": {},
   "outputs": [],
   "source": [
    "data = pd.read_csv(f\"math.csv\")\n",
    "data.shape"
   ]
  },
  {
   "cell_type": "code",
   "execution_count": null,
   "metadata": {},
   "outputs": [],
   "source": [
    "data.iloc[30, 3] = 100\n",
    "data.iloc[30, 4] = -10000\n",
    "data.iloc[30, 5] = -10000\n",
    "data.iloc[30, 6] = 100\n",
    "data.to_csv('tmp.csv',index=False)"
   ]
  },
  {
   "cell_type": "code",
   "execution_count": null,
   "metadata": {},
   "outputs": [],
   "source": [
    "with open('/kaggle/working/tmp.csv', \"r\") as f:\n",
    "    try:\n",
    "        r = requests.post(\"https://bad2good.fly.dev/score\", files={\"data_file\": f})\n",
    "        print(r.text)\n",
    "    except requests.exceptions.ConnectionError:\n",
    "        print(\"Connection problems. Contact the CTF organizers.\")"
   ]
  },
  {
   "cell_type": "code",
   "execution_count": null,
   "metadata": {},
   "outputs": [],
   "source": []
  }
 ],
 "metadata": {
  "kernelspec": {
   "display_name": "Python 3.9.7 ('base')",
   "language": "python",
   "name": "python3"
  },
  "language_info": {
   "name": "python",
   "version": "3.9.7"
  },
  "orig_nbformat": 4,
  "vscode": {
   "interpreter": {
    "hash": "fa355a8b28c1c2f0ff80746a4a48da57c501b8fa6582c022af1f51d5837067a2"
   }
  }
 },
 "nbformat": 4,
 "nbformat_minor": 2
}
