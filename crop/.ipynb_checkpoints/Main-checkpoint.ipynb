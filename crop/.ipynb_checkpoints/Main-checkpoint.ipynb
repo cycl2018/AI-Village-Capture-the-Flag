{
 "cells": [
  {
   "cell_type": "code",
   "execution_count": 135,
   "id": "7bc74321",
   "metadata": {},
   "outputs": [],
   "source": [
    "from PIL import Image\n",
    "import numpy as np\n",
    "import requests\n",
    "import json"
   ]
  },
  {
   "cell_type": "code",
   "execution_count": 24,
   "id": "3c088873",
   "metadata": {},
   "outputs": [],
   "source": [
    "img = Image.open('sample_image.png', 'r').convert('RGB')"
   ]
  },
  {
   "cell_type": "code",
   "execution_count": 25,
   "id": "10e3dc29",
   "metadata": {},
   "outputs": [],
   "source": [
    "data = np.array(img)"
   ]
  },
  {
   "cell_type": "code",
   "execution_count": 26,
   "id": "14a16b37",
   "metadata": {},
   "outputs": [],
   "source": [
    "data.shape\n",
    "n = 224"
   ]
  },
  {
   "cell_type": "code",
   "execution_count": 84,
   "id": "c6f3ccbe",
   "metadata": {},
   "outputs": [],
   "source": [
    "def find(x, y):\n",
    "    global fa\n",
    "    fa.setdefault((x,y),(x,y))\n",
    "    if fa[(x,y)] == (x,y):\n",
    "        return (x,y)\n",
    "    tmp = find(fa[(x,y)][0],fa[(x,y)][1])\n",
    "    fa[(x,y)] = tmp\n",
    "    return tmp\n",
    "def union(x1, y1, x2, y2):\n",
    "    fa1 = find(x1,y1)\n",
    "    fa2 = find(x2,y2)\n",
    "    if fa1 == fa2:\n",
    "        return\n",
    "    fa[fa1] = fa2\n",
    "    x1, y1 = fa1\n",
    "    x2, y2 = fa2\n",
    "    L[x2][y2] = min(L[x2][y2], L[x1][y1])\n",
    "    R[x2][y2] = max(R[x2][y2], R[x1][y1])\n",
    "    D[x2][y2] = min(D[x2][y2], D[x1][y1])\n",
    "    U[x2][y2] = max(U[x2][y2], U[x1][y1])\n",
    "    num[x2][y2] += num[x1][y1]"
   ]
  },
  {
   "cell_type": "code",
   "execution_count": 85,
   "id": "604507e0",
   "metadata": {},
   "outputs": [],
   "source": [
    "r = [[0 for _ in range(n)] for __ in range(n)]\n",
    "g = [[0 for _ in range(n)] for __ in range(n)]\n",
    "b = [[0 for _ in range(n)] for __ in range(n)]\n",
    "L = [[0 for _ in range(n)] for __ in range(n)]\n",
    "R = [[0 for _ in range(n)] for __ in range(n)]\n",
    "U = [[0 for _ in range(n)] for __ in range(n)]\n",
    "D = [[0 for _ in range(n)] for __ in range(n)]\n",
    "num = [[0 for _ in range(n)] for __ in range(n)]\n",
    "fa = {}"
   ]
  },
  {
   "cell_type": "code",
   "execution_count": 86,
   "id": "e2a96a8f",
   "metadata": {},
   "outputs": [],
   "source": [
    "for i in range(n):\n",
    "    for j in range(n):\n",
    "        L[i][j] = i\n",
    "        R[i][j] = i\n",
    "        U[i][j] = j\n",
    "        D[i][j] = j\n",
    "        r[i][j] = data[i, j, 0]\n",
    "        g[i][j] = data[i, j, 1]\n",
    "        b[i][j] = data[i, j, 2]\n",
    "        num[i][j] = 1"
   ]
  },
  {
   "cell_type": "code",
   "execution_count": 87,
   "id": "f7b47332",
   "metadata": {},
   "outputs": [],
   "source": [
    "dx = [0,0,-1,1]\n",
    "dy = [1,-1,0,0]\n",
    "for i in range(n):\n",
    "    for j in range(n):\n",
    "        for k in range(4):\n",
    "            ii = i + dx[k]\n",
    "            jj = j + dy[k]\n",
    "            if ii < 0 or ii >= n or jj < 0 or jj >= n:\n",
    "                continue\n",
    "            if r[i][j] != r[ii][jj] or g[i][j] != g[ii][jj] or b[i][j] != b[ii][jj]:\n",
    "                continue\n",
    "            union(i,j,ii,jj)"
   ]
  },
  {
   "cell_type": "code",
   "execution_count": 97,
   "id": "bc2fe2d4",
   "metadata": {},
   "outputs": [],
   "source": [
    "cir = []\n",
    "squ = []"
   ]
  },
  {
   "cell_type": "code",
   "execution_count": 98,
   "id": "5271a71f",
   "metadata": {},
   "outputs": [
    {
     "name": "stdout",
     "output_type": "stream",
     "text": [
      "################\n",
      "60 42\n",
      "12 60 12 61\n",
      "71 129 200\n",
      "################\n",
      "60 117\n",
      "12 60 88 136\n",
      "102 102 102\n",
      "################\n",
      "60 192\n",
      "12 60 163 211\n",
      "64 126 8\n",
      "################\n",
      "74 74\n",
      "0 74 0 74\n",
      "64 126 8\n",
      "################\n",
      "74 149\n",
      "0 74 75 149\n",
      "215 169 89\n",
      "################\n",
      "74 223\n",
      "0 74 150 223\n",
      "181 80 178\n",
      "################\n",
      "135 41\n",
      "87 135 13 61\n",
      "215 169 89\n",
      "################\n",
      "135 116\n",
      "87 135 88 136\n",
      "92 177 103\n",
      "################\n",
      "135 191\n",
      "87 135 163 211\n",
      "181 80 178\n",
      "################\n",
      "149 74\n",
      "75 149 0 74\n",
      "255 128 0\n",
      "################\n",
      "149 149\n",
      "75 149 75 149\n",
      "102 102 102\n",
      "################\n",
      "149 223\n",
      "75 149 150 223\n",
      "92 177 103\n",
      "################\n",
      "210 41\n",
      "162 210 13 61\n",
      "227 229 27\n",
      "################\n",
      "210 116\n",
      "162 210 88 136\n",
      "204 0 0\n",
      "################\n",
      "211 187\n",
      "162 211 163 211\n",
      "255 128 0\n",
      "################\n",
      "223 74\n",
      "150 223 0 74\n",
      "71 129 200\n",
      "################\n",
      "223 149\n",
      "150 223 75 149\n",
      "227 229 27\n",
      "################\n",
      "223 223\n",
      "150 223 150 223\n",
      "204 0 0\n"
     ]
    }
   ],
   "source": [
    "for i in range(n):\n",
    "    for j in range(n):\n",
    "        if find(i,j)!=(i,j):\n",
    "            continue\n",
    "        if num[i][j]<70:\n",
    "            continue\n",
    "        if num[i][j] > 3000:\n",
    "            squ.append((i,j))\n",
    "        else:\n",
    "            cir.append((i,j))\n",
    "        print('################')\n",
    "        print(i,j)\n",
    "        print(L[i][j],R[i][j],D[i][j],U[i][j])\n",
    "        print(r[i][j],g[i][j],b[i][j])"
   ]
  },
  {
   "cell_type": "code",
   "execution_count": 103,
   "id": "dc5b3623",
   "metadata": {},
   "outputs": [
    {
     "data": {
      "image/png": "[encoded data removed]",
      "text/plain": [
       "<PIL.Image.Image image mode=RGB size=48x48 at 0x24AABAC6F48>"
      ]
     },
     "execution_count": 103,
     "metadata": {},
     "output_type": "execute_result"
    }
   ],
   "source": [
    "Image.fromarray(data[12:60,88:136,:])"
   ]
  },
  {
   "cell_type": "code",
   "execution_count": 100,
   "id": "22738bff",
   "metadata": {},
   "outputs": [
    {
     "data": {
      "image/png": "[encoded data removed]",
      "text/plain": [
       "<PIL.Image.Image image mode=RGB size=74x74 at 0x24AABACB9C8>"
      ]
     },
     "execution_count": 100,
     "metadata": {},
     "output_type": "execute_result"
    }
   ],
   "source": [
    "Image.fromarray(data[0:74,0:74,:])"
   ]
  },
  {
   "cell_type": "code",
   "execution_count": 101,
   "id": "30f22c01",
   "metadata": {},
   "outputs": [
    {
     "data": {
      "text/plain": [
       "9"
      ]
     },
     "execution_count": 101,
     "metadata": {},
     "output_type": "execute_result"
    }
   ],
   "source": [
    "len(cir)"
   ]
  },
  {
   "cell_type": "code",
   "execution_count": 102,
   "id": "21930b90",
   "metadata": {},
   "outputs": [
    {
     "data": {
      "text/plain": [
       "9"
      ]
     },
     "execution_count": 102,
     "metadata": {},
     "output_type": "execute_result"
    }
   ],
   "source": [
    "len(squ)"
   ]
  },
  {
   "cell_type": "code",
   "execution_count": 124,
   "id": "6546940a",
   "metadata": {},
   "outputs": [],
   "source": [
    "cir_li = []\n",
    "squ_li = []\n",
    "cir_ans = []\n",
    "squ_ans = []"
   ]
  },
  {
   "cell_type": "code",
   "execution_count": 125,
   "id": "331b7155",
   "metadata": {},
   "outputs": [],
   "source": [
    "for i in range(9):\n",
    "    x = cir[i][0]\n",
    "    y = cir[i][1]\n",
    "    cir_li.append([-L[x][y]*1000000+U[x][y],i])"
   ]
  },
  {
   "cell_type": "code",
   "execution_count": 126,
   "id": "e0aad9ec",
   "metadata": {},
   "outputs": [],
   "source": [
    "cir_li.sort(key=lambda x:x[0])"
   ]
  },
  {
   "cell_type": "code",
   "execution_count": 127,
   "id": "641e19d4",
   "metadata": {},
   "outputs": [],
   "source": [
    "cir_img = []\n",
    "for i in cir_li:\n",
    "    i = i[1]\n",
    "    x = cir[i][0]\n",
    "    y = cir[i][1]\n",
    "    cir_img.append(Image.fromarray(data[L[x][y]:R[x][y],D[x][y]:U[x][y],:]))"
   ]
  },
  {
   "cell_type": "code",
   "execution_count": 128,
   "id": "51be512e",
   "metadata": {},
   "outputs": [],
   "source": [
    "for i in cir_li:\n",
    "    i = i[1]\n",
    "    x = cir[i][0]\n",
    "    y = cir[i][1]\n",
    "    cir_ans.append(int(r[x][y]))\n",
    "    cir_ans.append(int(g[x][y]))\n",
    "    cir_ans.append(int(b[x][y]))"
   ]
  },
  {
   "cell_type": "code",
   "execution_count": 131,
   "id": "1d28635a",
   "metadata": {},
   "outputs": [],
   "source": [
    "for i in range(9):\n",
    "    x = squ[i][0]\n",
    "    y = squ[i][1]\n",
    "    squ_li.append([-L[x][y]*1000000+U[x][y],i])\n",
    "squ_li.sort(key=lambda x:x[0])\n",
    "for i in cir_li:\n",
    "    i = i[1]\n",
    "    x = squ[i][0]\n",
    "    y = squ[i][1]\n",
    "    squ_ans.append(r[x][y])\n",
    "    squ_ans.append(g[x][y])\n",
    "    squ_ans.append(b[x][y])"
   ]
  },
  {
   "cell_type": "code",
   "execution_count": 140,
   "id": "f06542a7",
   "metadata": {},
   "outputs": [
    {
     "ename": "TypeError",
     "evalue": "Object of type uint8 is not JSON serializable",
     "output_type": "error",
     "traceback": [
      "\u001b[1;31m---------------------------------------------------------------------------\u001b[0m",
      "\u001b[1;31mTypeError\u001b[0m                                 Traceback (most recent call last)",
      "\u001b[1;32m~\\AppData\\Local\\Temp/ipykernel_14844/502604888.py\u001b[0m in \u001b[0;36m<module>\u001b[1;34m\u001b[0m\n\u001b[0;32m      4\u001b[0m }\n\u001b[0;32m      5\u001b[0m \u001b[0mfile\u001b[0m \u001b[1;33m=\u001b[0m \u001b[0mopen\u001b[0m\u001b[1;33m(\u001b[0m\u001b[1;34m'submit.json'\u001b[0m\u001b[1;33m,\u001b[0m\u001b[1;34m'w+'\u001b[0m\u001b[1;33m)\u001b[0m\u001b[1;33m\u001b[0m\u001b[1;33m\u001b[0m\u001b[0m\n\u001b[1;32m----> 6\u001b[1;33m \u001b[0mjson\u001b[0m\u001b[1;33m.\u001b[0m\u001b[0mdump\u001b[0m\u001b[1;33m(\u001b[0m\u001b[0mans\u001b[0m\u001b[1;33m,\u001b[0m\u001b[0mfile\u001b[0m\u001b[1;33m)\u001b[0m\u001b[1;33m\u001b[0m\u001b[1;33m\u001b[0m\u001b[0m\n\u001b[0m\u001b[0;32m      7\u001b[0m \u001b[0mfile\u001b[0m\u001b[1;33m.\u001b[0m\u001b[0mclose\u001b[0m\u001b[1;33m(\u001b[0m\u001b[1;33m)\u001b[0m\u001b[1;33m\u001b[0m\u001b[1;33m\u001b[0m\u001b[0m\n",
      "\u001b[1;32mD:\\tools\\Anaconda\\envs\\vqa_prompt\\lib\\json\\__init__.py\u001b[0m in \u001b[0;36mdump\u001b[1;34m(obj, fp, skipkeys, ensure_ascii, check_circular, allow_nan, cls, indent, separators, default, sort_keys, **kw)\u001b[0m\n\u001b[0;32m    177\u001b[0m     \u001b[1;31m# could accelerate with writelines in some versions of Python, at\u001b[0m\u001b[1;33m\u001b[0m\u001b[1;33m\u001b[0m\u001b[1;33m\u001b[0m\u001b[0m\n\u001b[0;32m    178\u001b[0m     \u001b[1;31m# a debuggability cost\u001b[0m\u001b[1;33m\u001b[0m\u001b[1;33m\u001b[0m\u001b[1;33m\u001b[0m\u001b[0m\n\u001b[1;32m--> 179\u001b[1;33m     \u001b[1;32mfor\u001b[0m \u001b[0mchunk\u001b[0m \u001b[1;32min\u001b[0m \u001b[0miterable\u001b[0m\u001b[1;33m:\u001b[0m\u001b[1;33m\u001b[0m\u001b[1;33m\u001b[0m\u001b[0m\n\u001b[0m\u001b[0;32m    180\u001b[0m         \u001b[0mfp\u001b[0m\u001b[1;33m.\u001b[0m\u001b[0mwrite\u001b[0m\u001b[1;33m(\u001b[0m\u001b[0mchunk\u001b[0m\u001b[1;33m)\u001b[0m\u001b[1;33m\u001b[0m\u001b[1;33m\u001b[0m\u001b[0m\n\u001b[0;32m    181\u001b[0m \u001b[1;33m\u001b[0m\u001b[0m\n",
      "\u001b[1;32mD:\\tools\\Anaconda\\envs\\vqa_prompt\\lib\\json\\encoder.py\u001b[0m in \u001b[0;36m_iterencode\u001b[1;34m(o, _current_indent_level)\u001b[0m\n\u001b[0;32m    429\u001b[0m             \u001b[1;32myield\u001b[0m \u001b[1;32mfrom\u001b[0m \u001b[0m_iterencode_list\u001b[0m\u001b[1;33m(\u001b[0m\u001b[0mo\u001b[0m\u001b[1;33m,\u001b[0m \u001b[0m_current_indent_level\u001b[0m\u001b[1;33m)\u001b[0m\u001b[1;33m\u001b[0m\u001b[1;33m\u001b[0m\u001b[0m\n\u001b[0;32m    430\u001b[0m         \u001b[1;32melif\u001b[0m \u001b[0misinstance\u001b[0m\u001b[1;33m(\u001b[0m\u001b[0mo\u001b[0m\u001b[1;33m,\u001b[0m \u001b[0mdict\u001b[0m\u001b[1;33m)\u001b[0m\u001b[1;33m:\u001b[0m\u001b[1;33m\u001b[0m\u001b[1;33m\u001b[0m\u001b[0m\n\u001b[1;32m--> 431\u001b[1;33m             \u001b[1;32myield\u001b[0m \u001b[1;32mfrom\u001b[0m \u001b[0m_iterencode_dict\u001b[0m\u001b[1;33m(\u001b[0m\u001b[0mo\u001b[0m\u001b[1;33m,\u001b[0m \u001b[0m_current_indent_level\u001b[0m\u001b[1;33m)\u001b[0m\u001b[1;33m\u001b[0m\u001b[1;33m\u001b[0m\u001b[0m\n\u001b[0m\u001b[0;32m    432\u001b[0m         \u001b[1;32melse\u001b[0m\u001b[1;33m:\u001b[0m\u001b[1;33m\u001b[0m\u001b[1;33m\u001b[0m\u001b[0m\n\u001b[0;32m    433\u001b[0m             \u001b[1;32mif\u001b[0m \u001b[0mmarkers\u001b[0m \u001b[1;32mis\u001b[0m \u001b[1;32mnot\u001b[0m \u001b[1;32mNone\u001b[0m\u001b[1;33m:\u001b[0m\u001b[1;33m\u001b[0m\u001b[1;33m\u001b[0m\u001b[0m\n",
      "\u001b[1;32mD:\\tools\\Anaconda\\envs\\vqa_prompt\\lib\\json\\encoder.py\u001b[0m in \u001b[0;36m_iterencode_dict\u001b[1;34m(dct, _current_indent_level)\u001b[0m\n\u001b[0;32m    403\u001b[0m                 \u001b[1;32melse\u001b[0m\u001b[1;33m:\u001b[0m\u001b[1;33m\u001b[0m\u001b[1;33m\u001b[0m\u001b[0m\n\u001b[0;32m    404\u001b[0m                     \u001b[0mchunks\u001b[0m \u001b[1;33m=\u001b[0m \u001b[0m_iterencode\u001b[0m\u001b[1;33m(\u001b[0m\u001b[0mvalue\u001b[0m\u001b[1;33m,\u001b[0m \u001b[0m_current_indent_level\u001b[0m\u001b[1;33m)\u001b[0m\u001b[1;33m\u001b[0m\u001b[1;33m\u001b[0m\u001b[0m\n\u001b[1;32m--> 405\u001b[1;33m                 \u001b[1;32myield\u001b[0m \u001b[1;32mfrom\u001b[0m \u001b[0mchunks\u001b[0m\u001b[1;33m\u001b[0m\u001b[1;33m\u001b[0m\u001b[0m\n\u001b[0m\u001b[0;32m    406\u001b[0m         \u001b[1;32mif\u001b[0m \u001b[0mnewline_indent\u001b[0m \u001b[1;32mis\u001b[0m \u001b[1;32mnot\u001b[0m \u001b[1;32mNone\u001b[0m\u001b[1;33m:\u001b[0m\u001b[1;33m\u001b[0m\u001b[1;33m\u001b[0m\u001b[0m\n\u001b[0;32m    407\u001b[0m             \u001b[0m_current_indent_level\u001b[0m \u001b[1;33m-=\u001b[0m \u001b[1;36m1\u001b[0m\u001b[1;33m\u001b[0m\u001b[1;33m\u001b[0m\u001b[0m\n",
      "\u001b[1;32mD:\\tools\\Anaconda\\envs\\vqa_prompt\\lib\\json\\encoder.py\u001b[0m in \u001b[0;36m_iterencode_list\u001b[1;34m(lst, _current_indent_level)\u001b[0m\n\u001b[0;32m    323\u001b[0m                 \u001b[1;32melse\u001b[0m\u001b[1;33m:\u001b[0m\u001b[1;33m\u001b[0m\u001b[1;33m\u001b[0m\u001b[0m\n\u001b[0;32m    324\u001b[0m                     \u001b[0mchunks\u001b[0m \u001b[1;33m=\u001b[0m \u001b[0m_iterencode\u001b[0m\u001b[1;33m(\u001b[0m\u001b[0mvalue\u001b[0m\u001b[1;33m,\u001b[0m \u001b[0m_current_indent_level\u001b[0m\u001b[1;33m)\u001b[0m\u001b[1;33m\u001b[0m\u001b[1;33m\u001b[0m\u001b[0m\n\u001b[1;32m--> 325\u001b[1;33m                 \u001b[1;32myield\u001b[0m \u001b[1;32mfrom\u001b[0m \u001b[0mchunks\u001b[0m\u001b[1;33m\u001b[0m\u001b[1;33m\u001b[0m\u001b[0m\n\u001b[0m\u001b[0;32m    326\u001b[0m         \u001b[1;32mif\u001b[0m \u001b[0mnewline_indent\u001b[0m \u001b[1;32mis\u001b[0m \u001b[1;32mnot\u001b[0m \u001b[1;32mNone\u001b[0m\u001b[1;33m:\u001b[0m\u001b[1;33m\u001b[0m\u001b[1;33m\u001b[0m\u001b[0m\n\u001b[0;32m    327\u001b[0m             \u001b[0m_current_indent_level\u001b[0m \u001b[1;33m-=\u001b[0m \u001b[1;36m1\u001b[0m\u001b[1;33m\u001b[0m\u001b[1;33m\u001b[0m\u001b[0m\n",
      "\u001b[1;32mD:\\tools\\Anaconda\\envs\\vqa_prompt\\lib\\json\\encoder.py\u001b[0m in \u001b[0;36m_iterencode\u001b[1;34m(o, _current_indent_level)\u001b[0m\n\u001b[0;32m    436\u001b[0m                     \u001b[1;32mraise\u001b[0m \u001b[0mValueError\u001b[0m\u001b[1;33m(\u001b[0m\u001b[1;34m\"Circular reference detected\"\u001b[0m\u001b[1;33m)\u001b[0m\u001b[1;33m\u001b[0m\u001b[1;33m\u001b[0m\u001b[0m\n\u001b[0;32m    437\u001b[0m                 \u001b[0mmarkers\u001b[0m\u001b[1;33m[\u001b[0m\u001b[0mmarkerid\u001b[0m\u001b[1;33m]\u001b[0m \u001b[1;33m=\u001b[0m \u001b[0mo\u001b[0m\u001b[1;33m\u001b[0m\u001b[1;33m\u001b[0m\u001b[0m\n\u001b[1;32m--> 438\u001b[1;33m             \u001b[0mo\u001b[0m \u001b[1;33m=\u001b[0m \u001b[0m_default\u001b[0m\u001b[1;33m(\u001b[0m\u001b[0mo\u001b[0m\u001b[1;33m)\u001b[0m\u001b[1;33m\u001b[0m\u001b[1;33m\u001b[0m\u001b[0m\n\u001b[0m\u001b[0;32m    439\u001b[0m             \u001b[1;32myield\u001b[0m \u001b[1;32mfrom\u001b[0m \u001b[0m_iterencode\u001b[0m\u001b[1;33m(\u001b[0m\u001b[0mo\u001b[0m\u001b[1;33m,\u001b[0m \u001b[0m_current_indent_level\u001b[0m\u001b[1;33m)\u001b[0m\u001b[1;33m\u001b[0m\u001b[1;33m\u001b[0m\u001b[0m\n\u001b[0;32m    440\u001b[0m             \u001b[1;32mif\u001b[0m \u001b[0mmarkers\u001b[0m \u001b[1;32mis\u001b[0m \u001b[1;32mnot\u001b[0m \u001b[1;32mNone\u001b[0m\u001b[1;33m:\u001b[0m\u001b[1;33m\u001b[0m\u001b[1;33m\u001b[0m\u001b[0m\n",
      "\u001b[1;32mD:\\tools\\Anaconda\\envs\\vqa_prompt\\lib\\json\\encoder.py\u001b[0m in \u001b[0;36mdefault\u001b[1;34m(self, o)\u001b[0m\n\u001b[0;32m    177\u001b[0m \u001b[1;33m\u001b[0m\u001b[0m\n\u001b[0;32m    178\u001b[0m         \"\"\"\n\u001b[1;32m--> 179\u001b[1;33m         raise TypeError(f'Object of type {o.__class__.__name__} '\n\u001b[0m\u001b[0;32m    180\u001b[0m                         f'is not JSON serializable')\n\u001b[0;32m    181\u001b[0m \u001b[1;33m\u001b[0m\u001b[0m\n",
      "\u001b[1;31mTypeError\u001b[0m: Object of type uint8 is not JSON serializable"
     ]
    }
   ],
   "source": [
    "ans = {\n",
    "    \"circles\":cir_ans,\n",
    "    \"squares\":squ_ans\n",
    "}\n",
    "file = open('submit.json','w+')\n",
    "json.dump(ans,file)\n",
    "file.close()"
   ]
  },
  {
   "cell_type": "code",
   "execution_count": 138,
   "id": "d530fd4e",
   "metadata": {},
   "outputs": [
    {
     "ename": "TypeError",
     "evalue": "Object of type uint8 is not JSON serializable",
     "output_type": "error",
     "traceback": [
      "\u001b[1;31m---------------------------------------------------------------------------\u001b[0m",
      "\u001b[1;31mTypeError\u001b[0m                                 Traceback (most recent call last)",
      "\u001b[1;32m~\\AppData\\Local\\Temp/ipykernel_14844/3724856298.py\u001b[0m in \u001b[0;36m<module>\u001b[1;34m\u001b[0m\n\u001b[1;32m----> 1\u001b[1;33m \u001b[0mr\u001b[0m \u001b[1;33m=\u001b[0m \u001b[0mrequests\u001b[0m\u001b[1;33m.\u001b[0m\u001b[0mpost\u001b[0m\u001b[1;33m(\u001b[0m\u001b[1;34m\"https://crop2.fly.dev/score\"\u001b[0m\u001b[1;33m,\u001b[0m \u001b[0mjson\u001b[0m\u001b[1;33m=\u001b[0m\u001b[0mjson\u001b[0m\u001b[1;33m.\u001b[0m\u001b[0mdumps\u001b[0m\u001b[1;33m(\u001b[0m\u001b[0mans\u001b[0m\u001b[1;33m)\u001b[0m\u001b[1;33m)\u001b[0m\u001b[1;33m\u001b[0m\u001b[1;33m\u001b[0m\u001b[0m\n\u001b[0m\u001b[0;32m      2\u001b[0m \u001b[0mprint\u001b[0m\u001b[1;33m(\u001b[0m\u001b[0mr\u001b[0m\u001b[1;33m.\u001b[0m\u001b[0mtext\u001b[0m\u001b[1;33m)\u001b[0m\u001b[1;33m\u001b[0m\u001b[1;33m\u001b[0m\u001b[0m\n",
      "\u001b[1;32mD:\\tools\\Anaconda\\envs\\vqa_prompt\\lib\\json\\__init__.py\u001b[0m in \u001b[0;36mdumps\u001b[1;34m(obj, skipkeys, ensure_ascii, check_circular, allow_nan, cls, indent, separators, default, sort_keys, **kw)\u001b[0m\n\u001b[0;32m    229\u001b[0m         \u001b[0mcls\u001b[0m \u001b[1;32mis\u001b[0m \u001b[1;32mNone\u001b[0m \u001b[1;32mand\u001b[0m \u001b[0mindent\u001b[0m \u001b[1;32mis\u001b[0m \u001b[1;32mNone\u001b[0m \u001b[1;32mand\u001b[0m \u001b[0mseparators\u001b[0m \u001b[1;32mis\u001b[0m \u001b[1;32mNone\u001b[0m \u001b[1;32mand\u001b[0m\u001b[1;33m\u001b[0m\u001b[1;33m\u001b[0m\u001b[0m\n\u001b[0;32m    230\u001b[0m         default is None and not sort_keys and not kw):\n\u001b[1;32m--> 231\u001b[1;33m         \u001b[1;32mreturn\u001b[0m \u001b[0m_default_encoder\u001b[0m\u001b[1;33m.\u001b[0m\u001b[0mencode\u001b[0m\u001b[1;33m(\u001b[0m\u001b[0mobj\u001b[0m\u001b[1;33m)\u001b[0m\u001b[1;33m\u001b[0m\u001b[1;33m\u001b[0m\u001b[0m\n\u001b[0m\u001b[0;32m    232\u001b[0m     \u001b[1;32mif\u001b[0m \u001b[0mcls\u001b[0m \u001b[1;32mis\u001b[0m \u001b[1;32mNone\u001b[0m\u001b[1;33m:\u001b[0m\u001b[1;33m\u001b[0m\u001b[1;33m\u001b[0m\u001b[0m\n\u001b[0;32m    233\u001b[0m         \u001b[0mcls\u001b[0m \u001b[1;33m=\u001b[0m \u001b[0mJSONEncoder\u001b[0m\u001b[1;33m\u001b[0m\u001b[1;33m\u001b[0m\u001b[0m\n",
      "\u001b[1;32mD:\\tools\\Anaconda\\envs\\vqa_prompt\\lib\\json\\encoder.py\u001b[0m in \u001b[0;36mencode\u001b[1;34m(self, o)\u001b[0m\n\u001b[0;32m    197\u001b[0m         \u001b[1;31m# exceptions aren't as detailed.  The list call should be roughly\u001b[0m\u001b[1;33m\u001b[0m\u001b[1;33m\u001b[0m\u001b[1;33m\u001b[0m\u001b[0m\n\u001b[0;32m    198\u001b[0m         \u001b[1;31m# equivalent to the PySequence_Fast that ''.join() would do.\u001b[0m\u001b[1;33m\u001b[0m\u001b[1;33m\u001b[0m\u001b[1;33m\u001b[0m\u001b[0m\n\u001b[1;32m--> 199\u001b[1;33m         \u001b[0mchunks\u001b[0m \u001b[1;33m=\u001b[0m \u001b[0mself\u001b[0m\u001b[1;33m.\u001b[0m\u001b[0miterencode\u001b[0m\u001b[1;33m(\u001b[0m\u001b[0mo\u001b[0m\u001b[1;33m,\u001b[0m \u001b[0m_one_shot\u001b[0m\u001b[1;33m=\u001b[0m\u001b[1;32mTrue\u001b[0m\u001b[1;33m)\u001b[0m\u001b[1;33m\u001b[0m\u001b[1;33m\u001b[0m\u001b[0m\n\u001b[0m\u001b[0;32m    200\u001b[0m         \u001b[1;32mif\u001b[0m \u001b[1;32mnot\u001b[0m \u001b[0misinstance\u001b[0m\u001b[1;33m(\u001b[0m\u001b[0mchunks\u001b[0m\u001b[1;33m,\u001b[0m \u001b[1;33m(\u001b[0m\u001b[0mlist\u001b[0m\u001b[1;33m,\u001b[0m \u001b[0mtuple\u001b[0m\u001b[1;33m)\u001b[0m\u001b[1;33m)\u001b[0m\u001b[1;33m:\u001b[0m\u001b[1;33m\u001b[0m\u001b[1;33m\u001b[0m\u001b[0m\n\u001b[0;32m    201\u001b[0m             \u001b[0mchunks\u001b[0m \u001b[1;33m=\u001b[0m \u001b[0mlist\u001b[0m\u001b[1;33m(\u001b[0m\u001b[0mchunks\u001b[0m\u001b[1;33m)\u001b[0m\u001b[1;33m\u001b[0m\u001b[1;33m\u001b[0m\u001b[0m\n",
      "\u001b[1;32mD:\\tools\\Anaconda\\envs\\vqa_prompt\\lib\\json\\encoder.py\u001b[0m in \u001b[0;36miterencode\u001b[1;34m(self, o, _one_shot)\u001b[0m\n\u001b[0;32m    255\u001b[0m                 \u001b[0mself\u001b[0m\u001b[1;33m.\u001b[0m\u001b[0mkey_separator\u001b[0m\u001b[1;33m,\u001b[0m \u001b[0mself\u001b[0m\u001b[1;33m.\u001b[0m\u001b[0mitem_separator\u001b[0m\u001b[1;33m,\u001b[0m \u001b[0mself\u001b[0m\u001b[1;33m.\u001b[0m\u001b[0msort_keys\u001b[0m\u001b[1;33m,\u001b[0m\u001b[1;33m\u001b[0m\u001b[1;33m\u001b[0m\u001b[0m\n\u001b[0;32m    256\u001b[0m                 self.skipkeys, _one_shot)\n\u001b[1;32m--> 257\u001b[1;33m         \u001b[1;32mreturn\u001b[0m \u001b[0m_iterencode\u001b[0m\u001b[1;33m(\u001b[0m\u001b[0mo\u001b[0m\u001b[1;33m,\u001b[0m \u001b[1;36m0\u001b[0m\u001b[1;33m)\u001b[0m\u001b[1;33m\u001b[0m\u001b[1;33m\u001b[0m\u001b[0m\n\u001b[0m\u001b[0;32m    258\u001b[0m \u001b[1;33m\u001b[0m\u001b[0m\n\u001b[0;32m    259\u001b[0m def _make_iterencode(markers, _default, _encoder, _indent, _floatstr,\n",
      "\u001b[1;32mD:\\tools\\Anaconda\\envs\\vqa_prompt\\lib\\json\\encoder.py\u001b[0m in \u001b[0;36mdefault\u001b[1;34m(self, o)\u001b[0m\n\u001b[0;32m    177\u001b[0m \u001b[1;33m\u001b[0m\u001b[0m\n\u001b[0;32m    178\u001b[0m         \"\"\"\n\u001b[1;32m--> 179\u001b[1;33m         raise TypeError(f'Object of type {o.__class__.__name__} '\n\u001b[0m\u001b[0;32m    180\u001b[0m                         f'is not JSON serializable')\n\u001b[0;32m    181\u001b[0m \u001b[1;33m\u001b[0m\u001b[0m\n",
      "\u001b[1;31mTypeError\u001b[0m: Object of type uint8 is not JSON serializable"
     ]
    }
   ],
   "source": [
    "r = requests.post(\"https://crop2.fly.dev/score\", json=json.dumps(ans))\n",
    "print(r.text)"
   ]
  },
  {
   "cell_type": "code",
   "execution_count": null,
   "id": "86f292cd",
   "metadata": {},
   "outputs": [],
   "source": []
  }
 ],
 "metadata": {
  "kernelspec": {
   "display_name": "vqa_prompt",
   "language": "python",
   "name": "vqa_prompt"
  },
  "language_info": {
   "codemirror_mode": {
    "name": "ipython",
    "version": 3
   },
   "file_extension": ".py",
   "mimetype": "text/x-python",
   "name": "python",
   "nbconvert_exporter": "python",
   "pygments_lexer": "ipython3",
   "version": "3.7.11"
  }
 },
 "nbformat": 4,
 "nbformat_minor": 5
}
