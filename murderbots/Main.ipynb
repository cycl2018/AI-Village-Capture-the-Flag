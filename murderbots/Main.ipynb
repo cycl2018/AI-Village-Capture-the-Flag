{
 "cells": [
  {
   "cell_type": "code",
   "execution_count": 137,
   "id": "260fd7a5",
   "metadata": {},
   "outputs": [],
   "source": [
    "from sklearn.ensemble import RandomForestClassifier\n",
    "from sklearn.metrics import roc_auc_score\n",
    "import os\n",
    "import numpy as np\n",
    "import pandas as pd\n",
    "import random\n",
    "import gc\n",
    "import lightgbm as lgb\n",
    "from sklearn.model_selection import cross_val_score \n",
    "import json"
   ]
  },
  {
   "cell_type": "code",
   "execution_count": 148,
   "id": "e9a0e3b1",
   "metadata": {},
   "outputs": [],
   "source": [
    "del model_helper"
   ]
  },
  {
   "cell_type": "code",
   "execution_count": 164,
   "id": "d4c43b73",
   "metadata": {},
   "outputs": [],
   "source": [
    "import numpy as np\n",
    "import pandas as pd\n",
    "import lightgbm as lgb\n",
    "import xgboost as xgb\n",
    "from sklearn.model_selection import cross_val_score \n",
    "\n",
    "class model_helper(object):\n",
    "    def __init__(self, data, train_n, val_n, label_col):\n",
    "        self.data = data    \n",
    "        self.train_data = data.drop(label_col, axis = 1)\n",
    "        self.train_x = self.train_data[:train_n].astype('float32')\n",
    "        self.train_y = self.data[:train_n][label_col].astype('float32')\n",
    "        self.val_x = self.train_data[train_n: train_n + val_n].astype('float32')\n",
    "        self.val_y = self.data[train_n: train_n + val_n][label_col].astype('float32')\n",
    "        self.all_train_x = self.train_data[:train_n + val_n].astype('float32')\n",
    "        self.all_train_y = self.data[:train_n + val_n][label_col].astype('float32')\n",
    "        self.test_x = self.train_data[train_n + val_n:].astype('float32')\n",
    "        self.x = self.train_data.astype('float32')        \n",
    "    def lgb_work(self, params, round, verbose_eval=20, early_stopping_rounds=100, use_best = True):\n",
    "        lgb_train_data = lgb.Dataset(self.train_x, self.train_y)\n",
    "        lgb_val_data = lgb.Dataset(self.val_x, self.val_y)\n",
    "        model = lgb.train(params,\n",
    "                        lgb_train_data,\n",
    "                        round,\n",
    "                        valid_sets=[lgb_train_data, lgb_val_data],\n",
    "                        verbose_eval=verbose_eval,\n",
    "                        early_stopping_rounds=early_stopping_rounds)\n",
    "        prob = model.predict(self.x, num_iteration=round - 1)\n",
    "        if use_best:\n",
    "            prob = model.predict(self.x, num_iteration=model.best_iteration)\n",
    "        self.data['lgb_prob'] = list(prob)\n",
    "        return self.data\n",
    "    def xgb_work(self, params, round, verbose_eval=20, early_stopping_rounds=100):\n",
    "        xgb_train_data = xgb.DMatrix(self.train_x, self.train_y)\n",
    "        xgb_val_data = xgb.DMatrix(self.val_x, self.val_y)\n",
    "        model = xgb.train(params,\n",
    "                        xgb_train_data,\n",
    "                        round,\n",
    "                        evals=[(xgb_train_data, 'train'), (xgb_val_data, 'eval')],\n",
    "                        verbose_eval=verbose_eval,\n",
    "                        early_stopping_rounds=early_stopping_rounds)\n",
    "        xgb_data = xgb.DMatrix(self.x)\n",
    "        prob = model.predict(xgb_data)\n",
    "        self.data['xgb_prob'] = list(prob)\n",
    "        return self.data        \n",
    "    def cv_lgb_cls_work(self, params):\n",
    "        model = lgb.LGBMClassifier(**params) \n",
    "        auc = cross_val_score(model, self.all_train_x, self.all_train_y, scoring='roc_auc', cv=5)  \n",
    "        print('[cv lgb cls][auc]', auc.mean())\n",
    "        model.fit(self.all_train_x, self.all_train_y)\n",
    "        prob = model.predict_proba(self.x)[:, 1]\n",
    "        self.data['cv_lgb_prob'] = list(prob)\n",
    "        return self.data         "
   ]
  },
  {
   "cell_type": "code",
   "execution_count": 165,
   "id": "7bcbb826",
   "metadata": {},
   "outputs": [],
   "source": [
    "def check_null(data, type='None'):\n",
    "    cols = data.columns.tolist()\n",
    "    li = []\n",
    "    n = len(data)\n",
    "    for col in cols:\n",
    "        col_data = data[col].tolist()\n",
    "        number = 0\n",
    "        for i in col_data:\n",
    "            if type == 'None' and (i == None or str(i) == 'None'):\n",
    "                number += 1\n",
    "            elif type == 'NaN' and (i != i or str(i) == 'NaN'):\n",
    "                number += 1\n",
    "            elif str(i) == type:\n",
    "                number += 1\n",
    "        li.append((number / n, col))\n",
    "    li.sort(key = lambda x: x[0], reverse=True)\n",
    "    for i in li:\n",
    "        print(i[0], i[1])\n",
    "        \n",
    "def count_unique(data):\n",
    "    cols = data.columns.tolist()\n",
    "    n = len(data)\n",
    "    for col in cols:\n",
    "        print(col, len(set(data[col].tolist())))"
   ]
  },
  {
   "cell_type": "code",
   "execution_count": 166,
   "id": "278508ec",
   "metadata": {},
   "outputs": [],
   "source": [
    "seed = 42\n",
    "np.random.seed(seed)\n",
    "random.seed(seed)"
   ]
  },
  {
   "cell_type": "code",
   "execution_count": 167,
   "id": "f30b8896",
   "metadata": {},
   "outputs": [],
   "source": [
    "train_data = pd.DataFrame(json.load(open('train_data.json','r')))\n",
    "test_data = pd.DataFrame(json.load(open('test_data.json','r')))\n",
    "train_data['label'] = pd.DataFrame(json.load(open('train_labels.json','r')))\n",
    "test_data['label'] = -1.0\n",
    "train_n = 170\n",
    "val_n = 30\n",
    "data = pd.concat([train_data, test_data], axis=0)"
   ]
  },
  {
   "cell_type": "code",
   "execution_count": 168,
   "id": "1f67e3df",
   "metadata": {},
   "outputs": [
    {
     "data": {
      "text/html": [
       "<div>\n",
       "<style scoped>\n",
       "    .dataframe tbody tr th:only-of-type {\n",
       "        vertical-align: middle;\n",
       "    }\n",
       "\n",
       "    .dataframe tbody tr th {\n",
       "        vertical-align: top;\n",
       "    }\n",
       "\n",
       "    .dataframe thead th {\n",
       "        text-align: right;\n",
       "    }\n",
       "</style>\n",
       "<table border=\"1\" class=\"dataframe\">\n",
       "  <thead>\n",
       "    <tr style=\"text-align: right;\">\n",
       "      <th></th>\n",
       "      <th>temperature</th>\n",
       "      <th>movement_events</th>\n",
       "      <th>water_usage</th>\n",
       "      <th>power_usage</th>\n",
       "      <th>label</th>\n",
       "    </tr>\n",
       "  </thead>\n",
       "  <tbody>\n",
       "    <tr>\n",
       "      <th>0</th>\n",
       "      <td>23.701663</td>\n",
       "      <td>8.0</td>\n",
       "      <td>2.240068</td>\n",
       "      <td>300.897030</td>\n",
       "      <td>1.0</td>\n",
       "    </tr>\n",
       "    <tr>\n",
       "      <th>1</th>\n",
       "      <td>19.817218</td>\n",
       "      <td>3.0</td>\n",
       "      <td>1.892936</td>\n",
       "      <td>358.857170</td>\n",
       "      <td>0.0</td>\n",
       "    </tr>\n",
       "    <tr>\n",
       "      <th>2</th>\n",
       "      <td>25.900846</td>\n",
       "      <td>12.0</td>\n",
       "      <td>2.394110</td>\n",
       "      <td>465.751480</td>\n",
       "      <td>1.0</td>\n",
       "    </tr>\n",
       "    <tr>\n",
       "      <th>3</th>\n",
       "      <td>23.923732</td>\n",
       "      <td>7.0</td>\n",
       "      <td>10.959409</td>\n",
       "      <td>285.928408</td>\n",
       "      <td>1.0</td>\n",
       "    </tr>\n",
       "    <tr>\n",
       "      <th>4</th>\n",
       "      <td>27.761647</td>\n",
       "      <td>7.0</td>\n",
       "      <td>1.739654</td>\n",
       "      <td>108.935042</td>\n",
       "      <td>1.0</td>\n",
       "    </tr>\n",
       "    <tr>\n",
       "      <th>...</th>\n",
       "      <td>...</td>\n",
       "      <td>...</td>\n",
       "      <td>...</td>\n",
       "      <td>...</td>\n",
       "      <td>...</td>\n",
       "    </tr>\n",
       "    <tr>\n",
       "      <th>45</th>\n",
       "      <td>19.742782</td>\n",
       "      <td>4.0</td>\n",
       "      <td>2.362424</td>\n",
       "      <td>181.293118</td>\n",
       "      <td>-1.0</td>\n",
       "    </tr>\n",
       "    <tr>\n",
       "      <th>46</th>\n",
       "      <td>27.867251</td>\n",
       "      <td>10.0</td>\n",
       "      <td>1.531540</td>\n",
       "      <td>295.153566</td>\n",
       "      <td>-1.0</td>\n",
       "    </tr>\n",
       "    <tr>\n",
       "      <th>47</th>\n",
       "      <td>24.875744</td>\n",
       "      <td>14.0</td>\n",
       "      <td>5.818158</td>\n",
       "      <td>175.860574</td>\n",
       "      <td>-1.0</td>\n",
       "    </tr>\n",
       "    <tr>\n",
       "      <th>48</th>\n",
       "      <td>21.166608</td>\n",
       "      <td>5.0</td>\n",
       "      <td>0.338973</td>\n",
       "      <td>325.538068</td>\n",
       "      <td>-1.0</td>\n",
       "    </tr>\n",
       "    <tr>\n",
       "      <th>49</th>\n",
       "      <td>22.584217</td>\n",
       "      <td>6.0</td>\n",
       "      <td>3.151809</td>\n",
       "      <td>395.516997</td>\n",
       "      <td>-1.0</td>\n",
       "    </tr>\n",
       "  </tbody>\n",
       "</table>\n",
       "<p>250 rows × 5 columns</p>\n",
       "</div>"
      ],
      "text/plain": [
       "    temperature  movement_events  water_usage  power_usage  label\n",
       "0     23.701663              8.0     2.240068   300.897030    1.0\n",
       "1     19.817218              3.0     1.892936   358.857170    0.0\n",
       "2     25.900846             12.0     2.394110   465.751480    1.0\n",
       "3     23.923732              7.0    10.959409   285.928408    1.0\n",
       "4     27.761647              7.0     1.739654   108.935042    1.0\n",
       "..          ...              ...          ...          ...    ...\n",
       "45    19.742782              4.0     2.362424   181.293118   -1.0\n",
       "46    27.867251             10.0     1.531540   295.153566   -1.0\n",
       "47    24.875744             14.0     5.818158   175.860574   -1.0\n",
       "48    21.166608              5.0     0.338973   325.538068   -1.0\n",
       "49    22.584217              6.0     3.151809   395.516997   -1.0\n",
       "\n",
       "[250 rows x 5 columns]"
      ]
     },
     "execution_count": 168,
     "metadata": {},
     "output_type": "execute_result"
    }
   ],
   "source": [
    "data"
   ]
  },
  {
   "cell_type": "code",
   "execution_count": 169,
   "id": "0ed788e2",
   "metadata": {},
   "outputs": [],
   "source": [
    "mh = model_helper(data, train_n, val_n, 'label')"
   ]
  },
  {
   "cell_type": "code",
   "execution_count": 170,
   "id": "9c46e092",
   "metadata": {},
   "outputs": [
    {
     "name": "stderr",
     "output_type": "stream",
     "text": [
      "d:\\tools\\Anaconda\\envs\\msyh\\lib\\site-packages\\lightgbm\\engine.py:177: UserWarning: Found `num_iterations` in params. Will use it instead of argument\n",
      "  _log_warning(f\"Found `{alias}` in params. Will use it instead of argument\")\n",
      "d:\\tools\\Anaconda\\envs\\msyh\\lib\\site-packages\\lightgbm\\engine.py:177: UserWarning: Found `num_iterations` in params. Will use it instead of argument\n",
      "  _log_warning(f\"Found `{alias}` in params. Will use it instead of argument\")\n",
      "d:\\tools\\Anaconda\\envs\\msyh\\lib\\site-packages\\lightgbm\\engine.py:177: UserWarning: Found `num_iterations` in params. Will use it instead of argument\n",
      "  _log_warning(f\"Found `{alias}` in params. Will use it instead of argument\")\n",
      "d:\\tools\\Anaconda\\envs\\msyh\\lib\\site-packages\\lightgbm\\engine.py:177: UserWarning: Found `num_iterations` in params. Will use it instead of argument\n",
      "  _log_warning(f\"Found `{alias}` in params. Will use it instead of argument\")\n",
      "d:\\tools\\Anaconda\\envs\\msyh\\lib\\site-packages\\lightgbm\\engine.py:177: UserWarning: Found `num_iterations` in params. Will use it instead of argument\n",
      "  _log_warning(f\"Found `{alias}` in params. Will use it instead of argument\")\n"
     ]
    },
    {
     "name": "stdout",
     "output_type": "stream",
     "text": [
      "[cv lgb cls][auc] 0.9539511278195489\n"
     ]
    },
    {
     "name": "stderr",
     "output_type": "stream",
     "text": [
      "d:\\tools\\Anaconda\\envs\\msyh\\lib\\site-packages\\lightgbm\\engine.py:177: UserWarning: Found `num_iterations` in params. Will use it instead of argument\n",
      "  _log_warning(f\"Found `{alias}` in params. Will use it instead of argument\")\n"
     ]
    },
    {
     "data": {
      "text/html": [
       "<div>\n",
       "<style scoped>\n",
       "    .dataframe tbody tr th:only-of-type {\n",
       "        vertical-align: middle;\n",
       "    }\n",
       "\n",
       "    .dataframe tbody tr th {\n",
       "        vertical-align: top;\n",
       "    }\n",
       "\n",
       "    .dataframe thead th {\n",
       "        text-align: right;\n",
       "    }\n",
       "</style>\n",
       "<table border=\"1\" class=\"dataframe\">\n",
       "  <thead>\n",
       "    <tr style=\"text-align: right;\">\n",
       "      <th></th>\n",
       "      <th>temperature</th>\n",
       "      <th>movement_events</th>\n",
       "      <th>water_usage</th>\n",
       "      <th>power_usage</th>\n",
       "      <th>label</th>\n",
       "      <th>cv_lgb_prob</th>\n",
       "    </tr>\n",
       "  </thead>\n",
       "  <tbody>\n",
       "    <tr>\n",
       "      <th>0</th>\n",
       "      <td>23.701663</td>\n",
       "      <td>8.0</td>\n",
       "      <td>2.240068</td>\n",
       "      <td>300.897030</td>\n",
       "      <td>1.0</td>\n",
       "      <td>9.988292e-01</td>\n",
       "    </tr>\n",
       "    <tr>\n",
       "      <th>1</th>\n",
       "      <td>19.817218</td>\n",
       "      <td>3.0</td>\n",
       "      <td>1.892936</td>\n",
       "      <td>358.857170</td>\n",
       "      <td>0.0</td>\n",
       "      <td>1.081002e-05</td>\n",
       "    </tr>\n",
       "    <tr>\n",
       "      <th>2</th>\n",
       "      <td>25.900846</td>\n",
       "      <td>12.0</td>\n",
       "      <td>2.394110</td>\n",
       "      <td>465.751480</td>\n",
       "      <td>1.0</td>\n",
       "      <td>1.000000e+00</td>\n",
       "    </tr>\n",
       "    <tr>\n",
       "      <th>3</th>\n",
       "      <td>23.923732</td>\n",
       "      <td>7.0</td>\n",
       "      <td>10.959409</td>\n",
       "      <td>285.928408</td>\n",
       "      <td>1.0</td>\n",
       "      <td>9.999984e-01</td>\n",
       "    </tr>\n",
       "    <tr>\n",
       "      <th>4</th>\n",
       "      <td>27.761647</td>\n",
       "      <td>7.0</td>\n",
       "      <td>1.739654</td>\n",
       "      <td>108.935042</td>\n",
       "      <td>1.0</td>\n",
       "      <td>9.999958e-01</td>\n",
       "    </tr>\n",
       "    <tr>\n",
       "      <th>...</th>\n",
       "      <td>...</td>\n",
       "      <td>...</td>\n",
       "      <td>...</td>\n",
       "      <td>...</td>\n",
       "      <td>...</td>\n",
       "      <td>...</td>\n",
       "    </tr>\n",
       "    <tr>\n",
       "      <th>45</th>\n",
       "      <td>19.742782</td>\n",
       "      <td>4.0</td>\n",
       "      <td>2.362424</td>\n",
       "      <td>181.293118</td>\n",
       "      <td>-1.0</td>\n",
       "      <td>5.771594e-06</td>\n",
       "    </tr>\n",
       "    <tr>\n",
       "      <th>46</th>\n",
       "      <td>27.867251</td>\n",
       "      <td>10.0</td>\n",
       "      <td>1.531540</td>\n",
       "      <td>295.153566</td>\n",
       "      <td>-1.0</td>\n",
       "      <td>9.999999e-01</td>\n",
       "    </tr>\n",
       "    <tr>\n",
       "      <th>47</th>\n",
       "      <td>24.875744</td>\n",
       "      <td>14.0</td>\n",
       "      <td>5.818158</td>\n",
       "      <td>175.860574</td>\n",
       "      <td>-1.0</td>\n",
       "      <td>1.000000e+00</td>\n",
       "    </tr>\n",
       "    <tr>\n",
       "      <th>48</th>\n",
       "      <td>21.166608</td>\n",
       "      <td>5.0</td>\n",
       "      <td>0.338973</td>\n",
       "      <td>325.538068</td>\n",
       "      <td>-1.0</td>\n",
       "      <td>6.031410e-07</td>\n",
       "    </tr>\n",
       "    <tr>\n",
       "      <th>49</th>\n",
       "      <td>22.584217</td>\n",
       "      <td>6.0</td>\n",
       "      <td>3.151809</td>\n",
       "      <td>395.516997</td>\n",
       "      <td>-1.0</td>\n",
       "      <td>6.988232e-01</td>\n",
       "    </tr>\n",
       "  </tbody>\n",
       "</table>\n",
       "<p>250 rows × 6 columns</p>\n",
       "</div>"
      ],
      "text/plain": [
       "    temperature  movement_events  water_usage  power_usage  label  \\\n",
       "0     23.701663              8.0     2.240068   300.897030    1.0   \n",
       "1     19.817218              3.0     1.892936   358.857170    0.0   \n",
       "2     25.900846             12.0     2.394110   465.751480    1.0   \n",
       "3     23.923732              7.0    10.959409   285.928408    1.0   \n",
       "4     27.761647              7.0     1.739654   108.935042    1.0   \n",
       "..          ...              ...          ...          ...    ...   \n",
       "45    19.742782              4.0     2.362424   181.293118   -1.0   \n",
       "46    27.867251             10.0     1.531540   295.153566   -1.0   \n",
       "47    24.875744             14.0     5.818158   175.860574   -1.0   \n",
       "48    21.166608              5.0     0.338973   325.538068   -1.0   \n",
       "49    22.584217              6.0     3.151809   395.516997   -1.0   \n",
       "\n",
       "     cv_lgb_prob  \n",
       "0   9.988292e-01  \n",
       "1   1.081002e-05  \n",
       "2   1.000000e+00  \n",
       "3   9.999984e-01  \n",
       "4   9.999958e-01  \n",
       "..           ...  \n",
       "45  5.771594e-06  \n",
       "46  9.999999e-01  \n",
       "47  1.000000e+00  \n",
       "48  6.031410e-07  \n",
       "49  6.988232e-01  \n",
       "\n",
       "[250 rows x 6 columns]"
      ]
     },
     "execution_count": 170,
     "metadata": {},
     "output_type": "execute_result"
    }
   ],
   "source": [
    "params = {\n",
    "    'max_depth': 6,\n",
    "    'learning_rate': 0.1,\n",
    "    'num_iterations': 300,\n",
    "    \"random_state\": 42\n",
    "}\n",
    "mh.cv_lgb_cls_work(params)"
   ]
  },
  {
   "cell_type": "code",
   "execution_count": 118,
   "id": "15f2cf9a",
   "metadata": {},
   "outputs": [
    {
     "name": "stdout",
     "output_type": "stream",
     "text": [
      "Training until validation scores don't improve for 100 rounds\n",
      "[20]\ttraining's binary_logloss: 0.374238\ttraining's auc: 0.964632\tvalid_1's binary_logloss: 0.47855\tvalid_1's auc: 0.918552\n",
      "[40]\ttraining's binary_logloss: 0.282221\ttraining's auc: 0.968785\tvalid_1's binary_logloss: 0.426564\tvalid_1's auc: 0.932127\n",
      "[60]\ttraining's binary_logloss: 0.25099\ttraining's auc: 0.972453\tvalid_1's binary_logloss: 0.398167\tvalid_1's auc: 0.936652\n",
      "[80]\ttraining's binary_logloss: 0.23735\ttraining's auc: 0.971346\tvalid_1's binary_logloss: 0.39066\tvalid_1's auc: 0.941176\n",
      "[100]\ttraining's binary_logloss: 0.231401\ttraining's auc: 0.970861\tvalid_1's binary_logloss: 0.384497\tvalid_1's auc: 0.945701\n",
      "[120]\ttraining's binary_logloss: 0.228587\ttraining's auc: 0.970169\tvalid_1's binary_logloss: 0.384321\tvalid_1's auc: 0.945701\n",
      "[140]\ttraining's binary_logloss: 0.227496\ttraining's auc: 0.970307\tvalid_1's binary_logloss: 0.380611\tvalid_1's auc: 0.945701\n",
      "[160]\ttraining's binary_logloss: 0.226929\ttraining's auc: 0.969754\tvalid_1's binary_logloss: 0.386599\tvalid_1's auc: 0.941176\n",
      "Early stopping, best iteration is:\n",
      "[76]\ttraining's binary_logloss: 0.239523\ttraining's auc: 0.972176\tvalid_1's binary_logloss: 0.382933\tvalid_1's auc: 0.945701\n"
     ]
    },
    {
     "name": "stderr",
     "output_type": "stream",
     "text": [
      "d:\\tools\\Anaconda\\envs\\msyh\\lib\\site-packages\\lightgbm\\engine.py:181: UserWarning: 'early_stopping_rounds' argument is deprecated and will be removed in a future release of LightGBM. Pass 'early_stopping()' callback via 'callbacks' argument instead.\n",
      "  _log_warning(\"'early_stopping_rounds' argument is deprecated and will be removed in a future release of LightGBM. \"\n",
      "d:\\tools\\Anaconda\\envs\\msyh\\lib\\site-packages\\lightgbm\\engine.py:239: UserWarning: 'verbose_eval' argument is deprecated and will be removed in a future release of LightGBM. Pass 'log_evaluation()' callback via 'callbacks' argument instead.\n",
      "  _log_warning(\"'verbose_eval' argument is deprecated and will be removed in a future release of LightGBM. \"\n"
     ]
    }
   ],
   "source": [
    "params = {\n",
    "      'objective': 'binary', \n",
    "      'max_depth': 3,\n",
    "      'learning_rate': 0.05,\n",
    "      \"min_sum_hessian_in_leaf\": 6,\n",
    "      \"boosting\": \"gbdt\",\n",
    "      \"feature_fraction\": 0.9, \n",
    "      \"bagging_freq\": 1,\n",
    "      \"bagging_fraction\": 0.8,\n",
    "      \"bagging_seed\": 11,\n",
    "      \"lambda_l1\": 0.01,             \n",
    "      'lambda_l2': 0.001,     \n",
    "      \"verbosity\": -1,\n",
    "      \"nthread\": -1,                \n",
    "      'metric': {'binary_logloss', 'auc'},  \n",
    "      \"random_state\": 42\n",
    "}\n",
    "round = 5000\n",
    "data = mh.lgb_work(params, 2000)"
   ]
  },
  {
   "cell_type": "code",
   "execution_count": null,
   "id": "97e0e449",
   "metadata": {},
   "outputs": [],
   "source": []
  },
  {
   "cell_type": "code",
   "execution_count": 126,
   "id": "716fedac",
   "metadata": {},
   "outputs": [],
   "source": [
    "prob = data[-50:]['lgb_prob'].tolist()"
   ]
  },
  {
   "cell_type": "code",
   "execution_count": 127,
   "id": "51d812a1",
   "metadata": {},
   "outputs": [],
   "source": [
    "s = ['0'] * 50\n",
    "li = []\n",
    "tmp = []\n",
    "for i in range(len(list(prob))):\n",
    "    li.append((list(prob)[i],i))\n",
    "li.sort(key=lambda x:x[0], reverse=True)"
   ]
  },
  {
   "cell_type": "code",
   "execution_count": 128,
   "id": "c323e8ed",
   "metadata": {},
   "outputs": [],
   "source": [
    "for i in range(len(li)):\n",
    "    if i < 10:\n",
    "        s[li[i][1]] = '1'\n",
    "        tmp.append(li[i][1])"
   ]
  },
  {
   "cell_type": "code",
   "execution_count": 129,
   "id": "f63db794",
   "metadata": {},
   "outputs": [
    {
     "data": {
      "text/plain": [
       "'00001000000001001001000000000000001010101000001100'"
      ]
     },
     "execution_count": 129,
     "metadata": {},
     "output_type": "execute_result"
    }
   ],
   "source": [
    "''.join(s)"
   ]
  },
  {
   "cell_type": "code",
   "execution_count": 130,
   "id": "4009c439",
   "metadata": {},
   "outputs": [
    {
     "data": {
      "text/plain": [
       "[(0.9655764165326977, 4),\n",
       " (0.9655764165326977, 16),\n",
       " (0.9655764165326977, 47),\n",
       " (0.9624235292158875, 13),\n",
       " (0.9620058071805437, 40),\n",
       " (0.9614229749785571, 36),\n",
       " (0.9563678973543924, 19),\n",
       " (0.9549735300812572, 38),\n",
       " (0.9533763750213244, 34),\n",
       " (0.9526583728709365, 46)]"
      ]
     },
     "execution_count": 130,
     "metadata": {},
     "output_type": "execute_result"
    }
   ],
   "source": [
    "li[:10]"
   ]
  },
  {
   "cell_type": "code",
   "execution_count": 131,
   "id": "3e502bb1",
   "metadata": {},
   "outputs": [
    {
     "data": {
      "text/plain": [
       "[4, 16, 47, 13, 40, 36, 19, 38, 34, 46]"
      ]
     },
     "execution_count": 131,
     "metadata": {},
     "output_type": "execute_result"
    }
   ],
   "source": [
    "tmp"
   ]
  },
  {
   "cell_type": "code",
   "execution_count": null,
   "id": "b4a584e8",
   "metadata": {},
   "outputs": [],
   "source": [
    "f = '00001000000001001001000000000000001010101000001100'\n",
    "try:\n",
    "    r = requests.post(\"http://murderbot.fly.dev:5000/score\", json=json.dumps({\"submission\": f, 'challenge_id':'murderbots'}))\n",
    "    print(r.text)\n",
    "except requests.exceptions.ConnectionError:\n",
    "    print(\"Connection problems. Contact the CTF organizers.\")"
   ]
  }
 ],
 "metadata": {
  "kernelspec": {
   "display_name": "Python 3.8.13 ('msyh')",
   "language": "python",
   "name": "python3"
  },
  "language_info": {
   "codemirror_mode": {
    "name": "ipython",
    "version": 3
   },
   "file_extension": ".py",
   "mimetype": "text/x-python",
   "name": "python",
   "nbconvert_exporter": "python",
   "pygments_lexer": "ipython3",
   "version": "3.8.13"
  },
  "vscode": {
   "interpreter": {
    "hash": "f62078b63c04cdd85380c5068fdc422469d4d42fba5dbce97d83d004bbb99f33"
   }
  }
 },
 "nbformat": 4,
 "nbformat_minor": 5
}
