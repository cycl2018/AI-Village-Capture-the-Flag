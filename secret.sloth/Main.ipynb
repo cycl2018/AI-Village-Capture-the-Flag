{
 "cells": [
  {
   "cell_type": "code",
   "execution_count": 1,
   "id": "967152b3",
   "metadata": {},
   "outputs": [],
   "source": [
    "from scipy import fftpack\n",
    "from matplotlib.colors import LogNorm\n",
    "import matplotlip.pyplot as plt\n",
    "from PIL import Image\n",
    "import pandas as pd\n",
    "import numpy as np"
   ]
  },
  {
   "cell_type": "code",
   "execution_count": 5,
   "id": "08c96296",
   "metadata": {},
   "outputs": [],
   "source": [
    "img0 = Image.open('secret-sloth.png')\n",
    "img0"
   ]
  },
  {
   "cell_type": "code",
   "execution_count": 6,
   "id": "1ccc2b9c",
   "metadata": {},
   "outputs": [],
   "source": [
    "plt.imshow(np.abs(fftpack.fft2(plt.imread(f'secret-sloth.png'))), norm=LogNorm(vmin=2))"
   ]
  },
  {
   "cell_type": "code",
   "execution_count": null,
   "id": "08b4c443",
   "metadata": {},
   "outputs": [],
   "source": []
  }
 ],
 "metadata": {
  "kernelspec": {
   "display_name": "vqa_prompt",
   "language": "python",
   "name": "vqa_prompt"
  },
  "language_info": {
   "codemirror_mode": {
    "name": "ipython",
    "version": 3
   },
   "file_extension": ".py",
   "mimetype": "text/x-python",
   "name": "python",
   "nbconvert_exporter": "python",
   "pygments_lexer": "ipython3",
   "version": "3.7.11"
  }
 },
 "nbformat": 4,
 "nbformat_minor": 5
}
