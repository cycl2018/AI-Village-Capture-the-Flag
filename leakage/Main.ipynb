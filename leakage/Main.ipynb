{
 "cells": [
  {
   "cell_type": "code",
   "execution_count": 36,
   "id": "ac2651a3",
   "metadata": {},
   "outputs": [
    {
     "data": {
      "text/plain": [
       "<All keys matched successfully>"
      ]
     },
     "execution_count": 36,
     "metadata": {},
     "output_type": "execute_result"
    }
   ],
   "source": [
    "import torch\n",
    "from torch import nn\n",
    "from torch.nn import functional as F\n",
    "\n",
    "class LM(nn.Module):\n",
    "    def __init__(self):\n",
    "        super(LM, self).__init__()\n",
    "        self.E = nn.Embedding(256, 32)\n",
    "        self.LSTM = nn.LSTM(32,128, 2, batch_first=True, dropout=.1)\n",
    "        self.predict = nn.Sequential(\n",
    "            nn.Linear(128, 128),\n",
    "            nn.LayerNorm(128),\n",
    "            nn.ELU(),\n",
    "            nn.Linear(128, 256)\n",
    "        )\n",
    "    def forward(self, x):\n",
    "        h = self.E(x)\n",
    "        h = self.LSTM(h)\n",
    "        h = h[0][:, -1 ,:]\n",
    "        h = self.predict(h)\n",
    "        return h\n",
    "\n",
    "def featurize(s):\n",
    "    return torch.Tensor([[int(ord(x)) for x in s]]).long()\n",
    "\n",
    "model = LM()\n",
    "model.load_state_dict(torch.load(\"pretrained_model.pt\"))"
   ]
  },
  {
   "cell_type": "code",
   "execution_count": 39,
   "id": "83a02691",
   "metadata": {},
   "outputs": [
    {
     "name": "stdout",
     "output_type": "stream",
     "text": [
      "####\n",
      "xXx_SkynetKilla_xXx\n",
      "Xx_SkynetKilla_xXx:\n",
      "####\n",
      "Xx_SkynetKilla_xXx:\n",
      "x_SkynetKilla_xXx:F\n",
      "####\n",
      "x_SkynetKilla_xXx:F\n",
      "_SkynetKilla_xXx:FL\n",
      "####\n",
      "_SkynetKilla_xXx:FL\n",
      "SkynetKilla_xXx:FLA\n",
      "####\n",
      "SkynetKilla_xXx:FLA\n",
      "kynetKilla_xXx:FLAG\n",
      "####\n",
      "kynetKilla_xXx:FLAG\n",
      "ynetKilla_xXx:FLAG{\n",
      "####\n",
      "ynetKilla_xXx:FLAG{\n",
      "netKilla_xXx:FLAG{s\n",
      "####\n",
      "netKilla_xXx:FLAG{s\n",
      "etKilla_xXx:FLAG{s4\n",
      "####\n",
      "etKilla_xXx:FLAG{s4\n",
      "tKilla_xXx:FLAG{s4R\n",
      "####\n",
      "tKilla_xXx:FLAG{s4R\n",
      "Killa_xXx:FLAG{s4Ra\n",
      "####\n",
      "Killa_xXx:FLAG{s4Ra\n",
      "illa_xXx:FLAG{s4RaH\n",
      "####\n",
      "illa_xXx:FLAG{s4RaH\n",
      "lla_xXx:FLAG{s4RaHc\n",
      "####\n",
      "lla_xXx:FLAG{s4RaHc\n",
      "la_xXx:FLAG{s4RaHc0\n",
      "####\n",
      "la_xXx:FLAG{s4RaHc0\n",
      "a_xXx:FLAG{s4RaHc0N\n",
      "####\n",
      "a_xXx:FLAG{s4RaHc0N\n",
      "_xXx:FLAG{s4RaHc0Nn\n",
      "####\n",
      "_xXx:FLAG{s4RaHc0Nn\n",
      "xXx:FLAG{s4RaHc0Nno\n",
      "####\n",
      "xXx:FLAG{s4RaHc0Nno\n",
      "Xx:FLAG{s4RaHc0Nnor\n",
      "####\n",
      "Xx:FLAG{s4RaHc0Nnor\n",
      "x:FLAG{s4RaHc0Nnor<\n",
      "####\n",
      "x:FLAG{s4RaHc0Nnor<\n",
      ":FLAG{s4RaHc0Nnor<3\n",
      "####\n",
      ":FLAG{s4RaHc0Nnor<3\n",
      "FLAG{s4RaHc0Nnor<3<\n",
      "####\n",
      "FLAG{s4RaHc0Nnor<3<\n",
      "LAG{s4RaHc0Nnor<3<3\n",
      "####\n",
      "LAG{s4RaHc0Nnor<3<3\n",
      "AG{s4RaHc0Nnor<3<3}\n"
     ]
    }
   ],
   "source": [
    "str = 'xXx_SkynetKilla_xXx'\n",
    "for k in range(22):\n",
    "    print('####')\n",
    "    nxt = ''\n",
    "    for i in range(23,24):\n",
    "        s = [c for c in str]\n",
    "        for j in range(len(s)):\n",
    "            if s[j] == 'x':\n",
    "                s[j] = (chr)(i + ord('a'))\n",
    "            if s[j] == 'X':\n",
    "                s[j] = (chr)(i + ord('A'))\n",
    "        s = ''.join(s)\n",
    "        print(s)\n",
    "        tmp = model(featurize(s))\n",
    "        for pos in range(19):\n",
    "            mx = -100000000\n",
    "            idx = -1\n",
    "            for j in range(256):\n",
    "                if tmp[0, j] > mx:\n",
    "                    mx = tmp[0, j]\n",
    "                    idx = j\n",
    "            nxt = str[1:] + chr(idx)\n",
    "    print(nxt)\n",
    "    str = nxt"
   ]
  },
  {
   "cell_type": "code",
   "execution_count": 25,
   "id": "de22ab2e",
   "metadata": {},
   "outputs": [
    {
     "data": {
      "text/plain": [
       "23"
      ]
     },
     "execution_count": 25,
     "metadata": {},
     "output_type": "execute_result"
    }
   ],
   "source": [
    "ord('x')-ord('a')"
   ]
  },
  {
   "cell_type": "code",
   "execution_count": null,
   "id": "66160318",
   "metadata": {},
   "outputs": [],
   "source": []
  }
 ],
 "metadata": {
  "kernelspec": {
   "display_name": "vqa_prompt",
   "language": "python",
   "name": "vqa_prompt"
  },
  "language_info": {
   "codemirror_mode": {
    "name": "ipython",
    "version": 3
   },
   "file_extension": ".py",
   "mimetype": "text/x-python",
   "name": "python",
   "nbconvert_exporter": "python",
   "pygments_lexer": "ipython3",
   "version": "3.7.11"
  }
 },
 "nbformat": 4,
 "nbformat_minor": 5
}
