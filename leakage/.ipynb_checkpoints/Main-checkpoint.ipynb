{
 "cells": [
  {
   "cell_type": "code",
   "execution_count": 1,
   "id": "ac2651a3",
   "metadata": {},
   "outputs": [
    {
     "data": {
      "text/plain": [
       "<All keys matched successfully>"
      ]
     },
     "execution_count": 1,
     "metadata": {},
     "output_type": "execute_result"
    }
   ],
   "source": [
    "import torch\n",
    "from torch import nn\n",
    "from torch.nn import functional as F\n",
    "\n",
    "class LM(nn.Module):\n",
    "    def __init__(self):\n",
    "        super(LM, self).__init__()\n",
    "        self.E = nn.Embedding(256, 32)\n",
    "        self.LSTM = nn.LSTM(32,128, 2, batch_first=True, dropout=.1)\n",
    "        self.predict = nn.Sequential(\n",
    "            nn.Linear(128, 128),\n",
    "            nn.LayerNorm(128),\n",
    "            nn.ELU(),\n",
    "            nn.Linear(128, 256)\n",
    "        )\n",
    "    def forward(self, x):\n",
    "        h = self.E(x)\n",
    "        h = self.LSTM(h)[0][:,-1,:]\n",
    "        h = self.predict(h)\n",
    "        return h\n",
    "\n",
    "def featurize(s):\n",
    "    return torch.Tensor([[int(ord(x)) for x in s]]).long()\n",
    "\n",
    "model = LM()\n",
    "model.load_state_dict(torch.load(\"pretrained_model.pt\"))"
   ]
  },
  {
   "cell_type": "code",
   "execution_count": null,
   "id": "83a02691",
   "metadata": {},
   "outputs": [],
   "source": []
  }
 ],
 "metadata": {
  "kernelspec": {
   "display_name": "vqa_prompt",
   "language": "python",
   "name": "vqa_prompt"
  },
  "language_info": {
   "codemirror_mode": {
    "name": "ipython",
    "version": 3
   },
   "file_extension": ".py",
   "mimetype": "text/x-python",
   "name": "python",
   "nbconvert_exporter": "python",
   "pygments_lexer": "ipython3",
   "version": "3.7.11"
  }
 },
 "nbformat": 4,
 "nbformat_minor": 5
}
